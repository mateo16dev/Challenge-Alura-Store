{
  "nbformat": 4,
  "nbformat_minor": 0,
  "metadata": {
    "colab": {
      "provenance": [],
      "include_colab_link": true
    },
    "kernelspec": {
      "name": "python3",
      "display_name": "Python 3"
    },
    "language_info": {
      "name": "python"
    }
  },
  "cells": [
    {
      "cell_type": "markdown",
      "metadata": {
        "id": "view-in-github",
        "colab_type": "text"
      },
      "source": [
        "<a href=\"https://colab.research.google.com/github/mateo16dev/Challenge-Alura-Store/blob/main/AluraStoreLatam.ipynb\" target=\"_parent\"><img src=\"https://colab.research.google.com/assets/colab-badge.svg\" alt=\"Open In Colab\"/></a>"
      ]
    },
    {
      "cell_type": "markdown",
      "source": [
        "### Importación de datos\n",
        "\n"
      ],
      "metadata": {
        "id": "RhEdWd9YUR6H"
      }
    },
    {
      "cell_type": "code",
      "execution_count": null,
      "metadata": {
        "colab": {
          "base_uri": "https://localhost:8080/",
          "height": 206
        },
        "id": "T3EvaeQ_INIL",
        "outputId": "fac27a6c-3578-43f3-96c2-d7b7c1885530"
      },
      "outputs": [
        {
          "output_type": "execute_result",
          "data": {
            "text/plain": [
              "            Producto Categoría del Producto    Precio  Costo de envío  \\\n",
              "0  Asistente virtual           Electrónicos  164300.0          6900.0   \n",
              "1    Mesa de comedor                Muebles  192300.0          8400.0   \n",
              "2      Juego de mesa               Juguetes  209600.0         15900.0   \n",
              "3         Microondas      Electrodomésticos  757500.0         41000.0   \n",
              "4   Silla de oficina                Muebles  335200.0         20200.0   \n",
              "\n",
              "  Fecha de Compra         Vendedor Lugar de Compra  Calificación  \\\n",
              "0      16/01/2021      Pedro Gomez          Bogotá             4   \n",
              "1      18/05/2022  Beatriz Morales        Medellín             1   \n",
              "2      15/03/2021   Juan Fernandez       Cartagena             1   \n",
              "3      03/05/2022   Juan Fernandez            Cali             4   \n",
              "4      07/11/2020    Maria Alfonso        Medellín             5   \n",
              "\n",
              "       Método de pago  Cantidad de cuotas       lat       lon  \n",
              "0  Tarjeta de crédito                   8   4.60971 -74.08175  \n",
              "1  Tarjeta de crédito                   4   6.25184 -75.56359  \n",
              "2  Tarjeta de crédito                   1  10.39972 -75.51444  \n",
              "3               Nequi                   1   3.43722 -76.52250  \n",
              "4               Nequi                   1   6.25184 -75.56359  "
            ],
            "text/html": [
              "\n",
              "  <div id=\"df-d9990efa-99fe-4d04-8a73-14694f692047\" class=\"colab-df-container\">\n",
              "    <div>\n",
              "<style scoped>\n",
              "    .dataframe tbody tr th:only-of-type {\n",
              "        vertical-align: middle;\n",
              "    }\n",
              "\n",
              "    .dataframe tbody tr th {\n",
              "        vertical-align: top;\n",
              "    }\n",
              "\n",
              "    .dataframe thead th {\n",
              "        text-align: right;\n",
              "    }\n",
              "</style>\n",
              "<table border=\"1\" class=\"dataframe\">\n",
              "  <thead>\n",
              "    <tr style=\"text-align: right;\">\n",
              "      <th></th>\n",
              "      <th>Producto</th>\n",
              "      <th>Categoría del Producto</th>\n",
              "      <th>Precio</th>\n",
              "      <th>Costo de envío</th>\n",
              "      <th>Fecha de Compra</th>\n",
              "      <th>Vendedor</th>\n",
              "      <th>Lugar de Compra</th>\n",
              "      <th>Calificación</th>\n",
              "      <th>Método de pago</th>\n",
              "      <th>Cantidad de cuotas</th>\n",
              "      <th>lat</th>\n",
              "      <th>lon</th>\n",
              "    </tr>\n",
              "  </thead>\n",
              "  <tbody>\n",
              "    <tr>\n",
              "      <th>0</th>\n",
              "      <td>Asistente virtual</td>\n",
              "      <td>Electrónicos</td>\n",
              "      <td>164300.0</td>\n",
              "      <td>6900.0</td>\n",
              "      <td>16/01/2021</td>\n",
              "      <td>Pedro Gomez</td>\n",
              "      <td>Bogotá</td>\n",
              "      <td>4</td>\n",
              "      <td>Tarjeta de crédito</td>\n",
              "      <td>8</td>\n",
              "      <td>4.60971</td>\n",
              "      <td>-74.08175</td>\n",
              "    </tr>\n",
              "    <tr>\n",
              "      <th>1</th>\n",
              "      <td>Mesa de comedor</td>\n",
              "      <td>Muebles</td>\n",
              "      <td>192300.0</td>\n",
              "      <td>8400.0</td>\n",
              "      <td>18/05/2022</td>\n",
              "      <td>Beatriz Morales</td>\n",
              "      <td>Medellín</td>\n",
              "      <td>1</td>\n",
              "      <td>Tarjeta de crédito</td>\n",
              "      <td>4</td>\n",
              "      <td>6.25184</td>\n",
              "      <td>-75.56359</td>\n",
              "    </tr>\n",
              "    <tr>\n",
              "      <th>2</th>\n",
              "      <td>Juego de mesa</td>\n",
              "      <td>Juguetes</td>\n",
              "      <td>209600.0</td>\n",
              "      <td>15900.0</td>\n",
              "      <td>15/03/2021</td>\n",
              "      <td>Juan Fernandez</td>\n",
              "      <td>Cartagena</td>\n",
              "      <td>1</td>\n",
              "      <td>Tarjeta de crédito</td>\n",
              "      <td>1</td>\n",
              "      <td>10.39972</td>\n",
              "      <td>-75.51444</td>\n",
              "    </tr>\n",
              "    <tr>\n",
              "      <th>3</th>\n",
              "      <td>Microondas</td>\n",
              "      <td>Electrodomésticos</td>\n",
              "      <td>757500.0</td>\n",
              "      <td>41000.0</td>\n",
              "      <td>03/05/2022</td>\n",
              "      <td>Juan Fernandez</td>\n",
              "      <td>Cali</td>\n",
              "      <td>4</td>\n",
              "      <td>Nequi</td>\n",
              "      <td>1</td>\n",
              "      <td>3.43722</td>\n",
              "      <td>-76.52250</td>\n",
              "    </tr>\n",
              "    <tr>\n",
              "      <th>4</th>\n",
              "      <td>Silla de oficina</td>\n",
              "      <td>Muebles</td>\n",
              "      <td>335200.0</td>\n",
              "      <td>20200.0</td>\n",
              "      <td>07/11/2020</td>\n",
              "      <td>Maria Alfonso</td>\n",
              "      <td>Medellín</td>\n",
              "      <td>5</td>\n",
              "      <td>Nequi</td>\n",
              "      <td>1</td>\n",
              "      <td>6.25184</td>\n",
              "      <td>-75.56359</td>\n",
              "    </tr>\n",
              "  </tbody>\n",
              "</table>\n",
              "</div>\n",
              "    <div class=\"colab-df-buttons\">\n",
              "\n",
              "  <div class=\"colab-df-container\">\n",
              "    <button class=\"colab-df-convert\" onclick=\"convertToInteractive('df-d9990efa-99fe-4d04-8a73-14694f692047')\"\n",
              "            title=\"Convert this dataframe to an interactive table.\"\n",
              "            style=\"display:none;\">\n",
              "\n",
              "  <svg xmlns=\"http://www.w3.org/2000/svg\" height=\"24px\" viewBox=\"0 -960 960 960\">\n",
              "    <path d=\"M120-120v-720h720v720H120Zm60-500h600v-160H180v160Zm220 220h160v-160H400v160Zm0 220h160v-160H400v160ZM180-400h160v-160H180v160Zm440 0h160v-160H620v160ZM180-180h160v-160H180v160Zm440 0h160v-160H620v160Z\"/>\n",
              "  </svg>\n",
              "    </button>\n",
              "\n",
              "  <style>\n",
              "    .colab-df-container {\n",
              "      display:flex;\n",
              "      gap: 12px;\n",
              "    }\n",
              "\n",
              "    .colab-df-convert {\n",
              "      background-color: #E8F0FE;\n",
              "      border: none;\n",
              "      border-radius: 50%;\n",
              "      cursor: pointer;\n",
              "      display: none;\n",
              "      fill: #1967D2;\n",
              "      height: 32px;\n",
              "      padding: 0 0 0 0;\n",
              "      width: 32px;\n",
              "    }\n",
              "\n",
              "    .colab-df-convert:hover {\n",
              "      background-color: #E2EBFA;\n",
              "      box-shadow: 0px 1px 2px rgba(60, 64, 67, 0.3), 0px 1px 3px 1px rgba(60, 64, 67, 0.15);\n",
              "      fill: #174EA6;\n",
              "    }\n",
              "\n",
              "    .colab-df-buttons div {\n",
              "      margin-bottom: 4px;\n",
              "    }\n",
              "\n",
              "    [theme=dark] .colab-df-convert {\n",
              "      background-color: #3B4455;\n",
              "      fill: #D2E3FC;\n",
              "    }\n",
              "\n",
              "    [theme=dark] .colab-df-convert:hover {\n",
              "      background-color: #434B5C;\n",
              "      box-shadow: 0px 1px 3px 1px rgba(0, 0, 0, 0.15);\n",
              "      filter: drop-shadow(0px 1px 2px rgba(0, 0, 0, 0.3));\n",
              "      fill: #FFFFFF;\n",
              "    }\n",
              "  </style>\n",
              "\n",
              "    <script>\n",
              "      const buttonEl =\n",
              "        document.querySelector('#df-d9990efa-99fe-4d04-8a73-14694f692047 button.colab-df-convert');\n",
              "      buttonEl.style.display =\n",
              "        google.colab.kernel.accessAllowed ? 'block' : 'none';\n",
              "\n",
              "      async function convertToInteractive(key) {\n",
              "        const element = document.querySelector('#df-d9990efa-99fe-4d04-8a73-14694f692047');\n",
              "        const dataTable =\n",
              "          await google.colab.kernel.invokeFunction('convertToInteractive',\n",
              "                                                    [key], {});\n",
              "        if (!dataTable) return;\n",
              "\n",
              "        const docLinkHtml = 'Like what you see? Visit the ' +\n",
              "          '<a target=\"_blank\" href=https://colab.research.google.com/notebooks/data_table.ipynb>data table notebook</a>'\n",
              "          + ' to learn more about interactive tables.';\n",
              "        element.innerHTML = '';\n",
              "        dataTable['output_type'] = 'display_data';\n",
              "        await google.colab.output.renderOutput(dataTable, element);\n",
              "        const docLink = document.createElement('div');\n",
              "        docLink.innerHTML = docLinkHtml;\n",
              "        element.appendChild(docLink);\n",
              "      }\n",
              "    </script>\n",
              "  </div>\n",
              "\n",
              "\n",
              "    <div id=\"df-08002d33-9dfc-473a-be64-d17d3f9b0854\">\n",
              "      <button class=\"colab-df-quickchart\" onclick=\"quickchart('df-08002d33-9dfc-473a-be64-d17d3f9b0854')\"\n",
              "                title=\"Suggest charts\"\n",
              "                style=\"display:none;\">\n",
              "\n",
              "<svg xmlns=\"http://www.w3.org/2000/svg\" height=\"24px\"viewBox=\"0 0 24 24\"\n",
              "     width=\"24px\">\n",
              "    <g>\n",
              "        <path d=\"M19 3H5c-1.1 0-2 .9-2 2v14c0 1.1.9 2 2 2h14c1.1 0 2-.9 2-2V5c0-1.1-.9-2-2-2zM9 17H7v-7h2v7zm4 0h-2V7h2v10zm4 0h-2v-4h2v4z\"/>\n",
              "    </g>\n",
              "</svg>\n",
              "      </button>\n",
              "\n",
              "<style>\n",
              "  .colab-df-quickchart {\n",
              "      --bg-color: #E8F0FE;\n",
              "      --fill-color: #1967D2;\n",
              "      --hover-bg-color: #E2EBFA;\n",
              "      --hover-fill-color: #174EA6;\n",
              "      --disabled-fill-color: #AAA;\n",
              "      --disabled-bg-color: #DDD;\n",
              "  }\n",
              "\n",
              "  [theme=dark] .colab-df-quickchart {\n",
              "      --bg-color: #3B4455;\n",
              "      --fill-color: #D2E3FC;\n",
              "      --hover-bg-color: #434B5C;\n",
              "      --hover-fill-color: #FFFFFF;\n",
              "      --disabled-bg-color: #3B4455;\n",
              "      --disabled-fill-color: #666;\n",
              "  }\n",
              "\n",
              "  .colab-df-quickchart {\n",
              "    background-color: var(--bg-color);\n",
              "    border: none;\n",
              "    border-radius: 50%;\n",
              "    cursor: pointer;\n",
              "    display: none;\n",
              "    fill: var(--fill-color);\n",
              "    height: 32px;\n",
              "    padding: 0;\n",
              "    width: 32px;\n",
              "  }\n",
              "\n",
              "  .colab-df-quickchart:hover {\n",
              "    background-color: var(--hover-bg-color);\n",
              "    box-shadow: 0 1px 2px rgba(60, 64, 67, 0.3), 0 1px 3px 1px rgba(60, 64, 67, 0.15);\n",
              "    fill: var(--button-hover-fill-color);\n",
              "  }\n",
              "\n",
              "  .colab-df-quickchart-complete:disabled,\n",
              "  .colab-df-quickchart-complete:disabled:hover {\n",
              "    background-color: var(--disabled-bg-color);\n",
              "    fill: var(--disabled-fill-color);\n",
              "    box-shadow: none;\n",
              "  }\n",
              "\n",
              "  .colab-df-spinner {\n",
              "    border: 2px solid var(--fill-color);\n",
              "    border-color: transparent;\n",
              "    border-bottom-color: var(--fill-color);\n",
              "    animation:\n",
              "      spin 1s steps(1) infinite;\n",
              "  }\n",
              "\n",
              "  @keyframes spin {\n",
              "    0% {\n",
              "      border-color: transparent;\n",
              "      border-bottom-color: var(--fill-color);\n",
              "      border-left-color: var(--fill-color);\n",
              "    }\n",
              "    20% {\n",
              "      border-color: transparent;\n",
              "      border-left-color: var(--fill-color);\n",
              "      border-top-color: var(--fill-color);\n",
              "    }\n",
              "    30% {\n",
              "      border-color: transparent;\n",
              "      border-left-color: var(--fill-color);\n",
              "      border-top-color: var(--fill-color);\n",
              "      border-right-color: var(--fill-color);\n",
              "    }\n",
              "    40% {\n",
              "      border-color: transparent;\n",
              "      border-right-color: var(--fill-color);\n",
              "      border-top-color: var(--fill-color);\n",
              "    }\n",
              "    60% {\n",
              "      border-color: transparent;\n",
              "      border-right-color: var(--fill-color);\n",
              "    }\n",
              "    80% {\n",
              "      border-color: transparent;\n",
              "      border-right-color: var(--fill-color);\n",
              "      border-bottom-color: var(--fill-color);\n",
              "    }\n",
              "    90% {\n",
              "      border-color: transparent;\n",
              "      border-bottom-color: var(--fill-color);\n",
              "    }\n",
              "  }\n",
              "</style>\n",
              "\n",
              "      <script>\n",
              "        async function quickchart(key) {\n",
              "          const quickchartButtonEl =\n",
              "            document.querySelector('#' + key + ' button');\n",
              "          quickchartButtonEl.disabled = true;  // To prevent multiple clicks.\n",
              "          quickchartButtonEl.classList.add('colab-df-spinner');\n",
              "          try {\n",
              "            const charts = await google.colab.kernel.invokeFunction(\n",
              "                'suggestCharts', [key], {});\n",
              "          } catch (error) {\n",
              "            console.error('Error during call to suggestCharts:', error);\n",
              "          }\n",
              "          quickchartButtonEl.classList.remove('colab-df-spinner');\n",
              "          quickchartButtonEl.classList.add('colab-df-quickchart-complete');\n",
              "        }\n",
              "        (() => {\n",
              "          let quickchartButtonEl =\n",
              "            document.querySelector('#df-08002d33-9dfc-473a-be64-d17d3f9b0854 button');\n",
              "          quickchartButtonEl.style.display =\n",
              "            google.colab.kernel.accessAllowed ? 'block' : 'none';\n",
              "        })();\n",
              "      </script>\n",
              "    </div>\n",
              "\n",
              "    </div>\n",
              "  </div>\n"
            ],
            "application/vnd.google.colaboratory.intrinsic+json": {
              "type": "dataframe",
              "variable_name": "tienda",
              "summary": "{\n  \"name\": \"tienda\",\n  \"rows\": 2359,\n  \"fields\": [\n    {\n      \"column\": \"Producto\",\n      \"properties\": {\n        \"dtype\": \"category\",\n        \"num_unique_values\": 51,\n        \"samples\": [\n          \"Guitarra ac\\u00fastica\",\n          \"Bal\\u00f3n de baloncesto\",\n          \"Smartwatch\"\n        ],\n        \"semantic_type\": \"\",\n        \"description\": \"\"\n      }\n    },\n    {\n      \"column\": \"Categor\\u00eda del Producto\",\n      \"properties\": {\n        \"dtype\": \"category\",\n        \"num_unique_values\": 8,\n        \"samples\": [\n          \"Muebles\",\n          \"Deportes y diversi\\u00f3n\",\n          \"Electr\\u00f3nicos\"\n        ],\n        \"semantic_type\": \"\",\n        \"description\": \"\"\n      }\n    },\n    {\n      \"column\": \"Precio\",\n      \"properties\": {\n        \"dtype\": \"number\",\n        \"std\": 614686.7653873172,\n        \"min\": 7600.0,\n        \"max\": 2977000.0,\n        \"num_unique_values\": 1937,\n        \"samples\": [\n          2499400.0,\n          14800.0,\n          80500.0\n        ],\n        \"semantic_type\": \"\",\n        \"description\": \"\"\n      }\n    },\n    {\n      \"column\": \"Costo de env\\u00edo\",\n      \"properties\": {\n        \"dtype\": \"number\",\n        \"std\": 32860.0017825605,\n        \"min\": 0.0,\n        \"max\": 160800.0,\n        \"num_unique_values\": 753,\n        \"samples\": [\n          117800.0,\n          54700.0,\n          45600.0\n        ],\n        \"semantic_type\": \"\",\n        \"description\": \"\"\n      }\n    },\n    {\n      \"column\": \"Fecha de Compra\",\n      \"properties\": {\n        \"dtype\": \"object\",\n        \"num_unique_values\": 1018,\n        \"samples\": [\n          \"15/09/2022\",\n          \"03/06/2020\",\n          \"06/11/2021\"\n        ],\n        \"semantic_type\": \"\",\n        \"description\": \"\"\n      }\n    },\n    {\n      \"column\": \"Vendedor\",\n      \"properties\": {\n        \"dtype\": \"category\",\n        \"num_unique_values\": 14,\n        \"samples\": [\n          \"Juliana Costa\",\n          \"Mariana Herrera\",\n          \"Pedro Gomez\"\n        ],\n        \"semantic_type\": \"\",\n        \"description\": \"\"\n      }\n    },\n    {\n      \"column\": \"Lugar de Compra\",\n      \"properties\": {\n        \"dtype\": \"category\",\n        \"num_unique_values\": 19,\n        \"samples\": [\n          \"Bogot\\u00e1\",\n          \"Pereira\",\n          \"Neiva\"\n        ],\n        \"semantic_type\": \"\",\n        \"description\": \"\"\n      }\n    },\n    {\n      \"column\": \"Calificaci\\u00f3n\",\n      \"properties\": {\n        \"dtype\": \"number\",\n        \"std\": 1,\n        \"min\": 1,\n        \"max\": 5,\n        \"num_unique_values\": 5,\n        \"samples\": [\n          1,\n          2,\n          5\n        ],\n        \"semantic_type\": \"\",\n        \"description\": \"\"\n      }\n    },\n    {\n      \"column\": \"M\\u00e9todo de pago\",\n      \"properties\": {\n        \"dtype\": \"category\",\n        \"num_unique_values\": 4,\n        \"samples\": [\n          \"Nequi\",\n          \"Tarjeta de d\\u00e9bito\",\n          \"Tarjeta de cr\\u00e9dito\"\n        ],\n        \"semantic_type\": \"\",\n        \"description\": \"\"\n      }\n    },\n    {\n      \"column\": \"Cantidad de cuotas\",\n      \"properties\": {\n        \"dtype\": \"number\",\n        \"std\": 2,\n        \"min\": 1,\n        \"max\": 24,\n        \"num_unique_values\": 15,\n        \"samples\": [\n          7,\n          14,\n          8\n        ],\n        \"semantic_type\": \"\",\n        \"description\": \"\"\n      }\n    },\n    {\n      \"column\": \"lat\",\n      \"properties\": {\n        \"dtype\": \"number\",\n        \"std\": 2.2874452492678627,\n        \"min\": -4.21528,\n        \"max\": 11.54444,\n        \"num_unique_values\": 19,\n        \"samples\": [\n          4.60971,\n          4.81333,\n          2.9273\n        ],\n        \"semantic_type\": \"\",\n        \"description\": \"\"\n      }\n    },\n    {\n      \"column\": \"lon\",\n      \"properties\": {\n        \"dtype\": \"number\",\n        \"std\": 1.2178272727088486,\n        \"min\": -77.28111,\n        \"max\": -67.9239,\n        \"num_unique_values\": 19,\n        \"samples\": [\n          -74.08175,\n          -75.69611,\n          -75.28189\n        ],\n        \"semantic_type\": \"\",\n        \"description\": \"\"\n      }\n    }\n  ]\n}"
            }
          },
          "metadata": {},
          "execution_count": 20
        }
      ],
      "source": [
        "import pandas as pd #Para el analisis de los datos\n",
        "import matplotlib.pyplot as plt #para crear gráficos\n",
        "\n",
        "\n",
        "url = \"https://raw.githubusercontent.com/alura-es-cursos/challenge1-data-science-latam/refs/heads/main/base-de-datos-challenge1-latam/tienda_1%20.csv\"\n",
        "url2 = \"https://raw.githubusercontent.com/alura-es-cursos/challenge1-data-science-latam/refs/heads/main/base-de-datos-challenge1-latam/tienda_2.csv\"\n",
        "url3 = \"https://raw.githubusercontent.com/alura-es-cursos/challenge1-data-science-latam/refs/heads/main/base-de-datos-challenge1-latam/tienda_3.csv\"\n",
        "url4 = \"https://raw.githubusercontent.com/alura-es-cursos/challenge1-data-science-latam/refs/heads/main/base-de-datos-challenge1-latam/tienda_4.csv\"\n",
        "\n",
        "tienda = pd.read_csv(url)\n",
        "tienda2 = pd.read_csv(url2)\n",
        "tienda3 = pd.read_csv(url3)\n",
        "tienda4 = pd.read_csv(url4)\n",
        "\n",
        "tienda.head()"
      ]
    },
    {
      "cell_type": "markdown",
      "source": [
        "#1. Análisis de facturación\n",
        "\n"
      ],
      "metadata": {
        "id": "X62IW3KFUIYm"
      }
    },
    {
      "cell_type": "markdown",
      "source": [
        "### Ingreso total por cada tienda"
      ],
      "metadata": {
        "id": "kvr0de7zHyso"
      }
    },
    {
      "cell_type": "code",
      "source": [
        "tiendas = [tienda, tienda2, tienda3, tienda4]\n",
        "nombres = ['Tienda 1', 'Tienda 2', 'Tienda 3', 'Tienda 4']"
      ],
      "metadata": {
        "id": "ZepyW14gQnua"
      },
      "execution_count": null,
      "outputs": []
    },
    {
      "cell_type": "code",
      "source": [
        "# Mostrar los resultados filtrados.\n",
        "ingreso_t1 = tienda['Precio'].sum()\n",
        "ingreso_t2 = tienda2['Precio'].sum()\n",
        "ingreso_t3 = tienda3['Precio'].sum()\n",
        "ingreso_t4 = tienda4['Precio'].sum()"
      ],
      "metadata": {
        "id": "vdB8vyij2Lh5"
      },
      "execution_count": null,
      "outputs": []
    },
    {
      "cell_type": "code",
      "source": [
        "print(f'Los ingresos de la tienda No.1 son: {ingreso_t1} \\nLos ingresos de la tienda No.2 son {ingreso_t2}\\nLos ingresos de la tienda No.3 son: {ingreso_t3} \\nLos ingresos de la tienda No.4 son: {ingreso_t4}')"
      ],
      "metadata": {
        "id": "xykobSftV64I",
        "outputId": "f0cc8f2f-4019-4cd9-860a-9da55996e1f2",
        "colab": {
          "base_uri": "https://localhost:8080/"
        }
      },
      "execution_count": null,
      "outputs": [
        {
          "output_type": "stream",
          "name": "stdout",
          "text": [
            "Los ingresos de la tienda No.1 son: 1150880400.0 \n",
            "Los ingresos de la tienda No.2 son 1116343500.0\n",
            "Los ingresos de la tienda No.3 son: 1098019600.0 \n",
            "Los ingresos de la tienda No.4 son: 1038375700.0\n"
          ]
        }
      ]
    },
    {
      "cell_type": "code",
      "source": [
        "ingresos = []\n",
        "\n",
        "for tienda in tiendas:\n",
        "  ingresos.append(tienda['Precio'].sum())\n",
        "\n",
        "print(f'ingresos = {ingresos}')"
      ],
      "metadata": {
        "colab": {
          "base_uri": "https://localhost:8080/"
        },
        "id": "sIt7CTBrSu-x",
        "outputId": "4190e21b-d134-4d1e-8b22-e39f5431ae29"
      },
      "execution_count": null,
      "outputs": [
        {
          "output_type": "stream",
          "name": "stdout",
          "text": [
            "ingresos = [np.float64(1150880400.0), np.float64(1116343500.0), np.float64(1098019600.0), np.float64(1038375700.0)]\n"
          ]
        }
      ]
    },
    {
      "cell_type": "code",
      "source": [
        "print(f'Los ingresos de la tienda No.1 son: {ingresos[0]} \\nLos ingresos de la tienda No.2 son {ingresos[1]}\\nLos ingresos de la tienda No.3 son: {ingresos[2]} \\nLos ingresos de la tienda No.4 son: {ingresos[3]}')"
      ],
      "metadata": {
        "colab": {
          "base_uri": "https://localhost:8080/"
        },
        "id": "THjvhSS6Upd6",
        "outputId": "e71eeabf-7b88-4d83-81ce-20b061f43167"
      },
      "execution_count": null,
      "outputs": [
        {
          "output_type": "stream",
          "name": "stdout",
          "text": [
            "Los ingresos de la tienda No.1 son: 1150880400.0 \n",
            "Los ingresos de la tienda No.2 son 1116343500.0\n",
            "Los ingresos de la tienda No.3 son: 1098019600.0 \n",
            "Los ingresos de la tienda No.4 son: 1038375700.0\n"
          ]
        }
      ]
    },
    {
      "cell_type": "code",
      "source": [
        "# Mostrar los resultados filtrados. CON PANDAS\n",
        "facturacion_t1 = tienda['Precio'].astype(float).sum()\n",
        "facturacion_t2 = tienda2['Precio'].astype(float).sum()\n",
        "facturacion_t3 = tienda3['Precio'].astype(float).sum()\n",
        "facturacion_t4 = tienda4['Precio'].astype(float).sum()"
      ],
      "metadata": {
        "id": "5Cr7FPR6C7aZ"
      },
      "execution_count": null,
      "outputs": []
    },
    {
      "cell_type": "markdown",
      "source": [
        "# 2. Ventas por categoría"
      ],
      "metadata": {
        "id": "2V_vcAPzWZmR"
      }
    },
    {
      "cell_type": "code",
      "source": [
        "#Saber cuantas catergorias existen\n",
        "categorias = tienda['Categoría del Producto'].unique()\n",
        "print(categorias)"
      ],
      "metadata": {
        "id": "A34YupIuYhfF",
        "outputId": "0cea5dc4-da27-42c2-f1ac-cb8c104fc569",
        "colab": {
          "base_uri": "https://localhost:8080/"
        }
      },
      "execution_count": null,
      "outputs": [
        {
          "output_type": "stream",
          "name": "stdout",
          "text": [
            "['Electrodomésticos' 'Muebles' 'Deportes y diversión' 'Libros'\n",
            " 'Electrónicos' 'Instrumentos musicales' 'Juguetes'\n",
            " 'Artículos para el hogar']\n"
          ]
        }
      ]
    },
    {
      "cell_type": "code",
      "source": [
        "# Categorias = ['Electrónicos' 'Muebles' 'Juguetes' 'Electrodomésticos''Artículos para el hogar' 'Deportes y diversión' 'Libros''Instrumentos musicales']\n",
        "categorias_por_tienda = []\n",
        "\n",
        "def contar_categorias_por_tienda(tiendas, nombres):\n",
        "  resultados = []\n",
        "  for nombre, tienda in zip(nombres,tiendas):\n",
        "    conteo_categoria = tienda['Categoría del Producto'].value_counts()\n",
        "    resultados.append([nombre, conteo_categoria.to_dict()])\n",
        "\n",
        "  return resultados"
      ],
      "metadata": {
        "id": "yZR6cOjXYSk1"
      },
      "execution_count": null,
      "outputs": []
    },
    {
      "cell_type": "code",
      "source": [
        "categorias_por_tienda = contar_categorias_por_tienda(tiendas, nombres)\n",
        "categorias_por_tienda"
      ],
      "metadata": {
        "colab": {
          "base_uri": "https://localhost:8080/"
        },
        "id": "_LDFsQ12dqR0",
        "outputId": "5dd6faa6-b371-4d78-cc94-086d74424d73"
      },
      "execution_count": null,
      "outputs": [
        {
          "output_type": "execute_result",
          "data": {
            "text/plain": [
              "[['Tienda 1',\n",
              "  {'Muebles': 465,\n",
              "   'Electrónicos': 448,\n",
              "   'Juguetes': 324,\n",
              "   'Electrodomésticos': 312,\n",
              "   'Deportes y diversión': 284,\n",
              "   'Instrumentos musicales': 182,\n",
              "   'Libros': 173,\n",
              "   'Artículos para el hogar': 171}],\n",
              " ['Tienda 2',\n",
              "  {'Muebles': 442,\n",
              "   'Electrónicos': 422,\n",
              "   'Juguetes': 313,\n",
              "   'Electrodomésticos': 305,\n",
              "   'Deportes y diversión': 275,\n",
              "   'Instrumentos musicales': 224,\n",
              "   'Libros': 197,\n",
              "   'Artículos para el hogar': 181}],\n",
              " ['Tienda 3',\n",
              "  {'Muebles': 499,\n",
              "   'Electrónicos': 451,\n",
              "   'Juguetes': 315,\n",
              "   'Electrodomésticos': 278,\n",
              "   'Deportes y diversión': 277,\n",
              "   'Libros': 185,\n",
              "   'Instrumentos musicales': 177,\n",
              "   'Artículos para el hogar': 177}],\n",
              " ['Tienda 4',\n",
              "  {'Muebles': 480,\n",
              "   'Electrónicos': 451,\n",
              "   'Juguetes': 338,\n",
              "   'Deportes y diversión': 277,\n",
              "   'Electrodomésticos': 254,\n",
              "   'Artículos para el hogar': 201,\n",
              "   'Libros': 187,\n",
              "   'Instrumentos musicales': 170}]]"
            ]
          },
          "metadata": {},
          "execution_count": 29
        }
      ]
    },
    {
      "cell_type": "markdown",
      "source": [
        "# 3. Calificación promedio de la tienda\n"
      ],
      "metadata": {
        "id": "Rq6tU_xSY3jk"
      }
    },
    {
      "cell_type": "code",
      "source": [
        "calificacion_por_tienda = [round(sum(tienda['Calificación'])/len(tienda['Calificación']),2) for tienda in tiendas]\n",
        "calificacion_por_tienda"
      ],
      "metadata": {
        "colab": {
          "base_uri": "https://localhost:8080/"
        },
        "id": "BQZej0GeiJ7N",
        "outputId": "7a765984-eefe-4bb2-a18c-e04b46d805ed"
      },
      "execution_count": null,
      "outputs": [
        {
          "output_type": "execute_result",
          "data": {
            "text/plain": [
              "[3.98, 4.04, 4.05, 4.0]"
            ]
          },
          "metadata": {},
          "execution_count": 30
        }
      ]
    },
    {
      "cell_type": "code",
      "source": [
        "calificacion_por_tienda = []\n",
        "\n",
        "def promedio_calificacion_por_tienda(tiendas, nombres):\n",
        "  resultados = []\n",
        "  for nombre, tienda in zip(nombres,tiendas):\n",
        "    promedio_calificacion = round(tienda['Calificación'].mean(),2)\n",
        "    resultados.append([nombre, promedio_calificacion])\n",
        "  return resultados"
      ],
      "metadata": {
        "id": "bh3jjjJwY5MU"
      },
      "execution_count": null,
      "outputs": []
    },
    {
      "cell_type": "code",
      "source": [
        "calificacion_por_tienda = promedio_calificacion_por_tienda(tiendas, nombres)\n",
        "calificacion_por_tienda\n"
      ],
      "metadata": {
        "id": "I0KkjPoTY88F",
        "colab": {
          "base_uri": "https://localhost:8080/"
        },
        "outputId": "b46ad40a-f2d0-4bd7-fcd5-9dde80e51d93"
      },
      "execution_count": null,
      "outputs": [
        {
          "output_type": "execute_result",
          "data": {
            "text/plain": [
              "[['Tienda 1', np.float64(3.98)],\n",
              " ['Tienda 2', np.float64(4.04)],\n",
              " ['Tienda 3', np.float64(4.05)],\n",
              " ['Tienda 4', np.float64(4.0)]]"
            ]
          },
          "metadata": {},
          "execution_count": 32
        }
      ]
    },
    {
      "cell_type": "markdown",
      "source": [
        "# 4. Productos más y menos vendidos"
      ],
      "metadata": {
        "id": "DmNp1KPBZCm-"
      }
    },
    {
      "cell_type": "code",
      "source": [
        "todas_las_tiendas = pd.concat([tienda, tienda2, tienda3, tienda4], ignore_index=True)\n",
        "productos_vendidos = todas_las_tiendas['Producto'].value_counts()\n",
        "\n",
        "producto_mas_vendido = productos_vendidos.index[0]\n",
        "producto_menos_vendido = productos_vendidos.index[-1]\n",
        "\n",
        "print(f\"El producto más vendido es: {producto_mas_vendido}\")\n",
        "print(f\"El producto menos vendido es: {producto_menos_vendido}\")"
      ],
      "metadata": {
        "colab": {
          "base_uri": "https://localhost:8080/"
        },
        "id": "x9krNPXJxP4n",
        "outputId": "9dada98c-4080-4485-e945-33d22ba98e8f"
      },
      "execution_count": null,
      "outputs": [
        {
          "output_type": "stream",
          "name": "stdout",
          "text": [
            "El producto más vendido es: Cama box\n",
            "El producto menos vendido es: Guitarra eléctrica\n"
          ]
        }
      ]
    },
    {
      "cell_type": "markdown",
      "source": [
        "# 5. Envío promedio por tienda"
      ],
      "metadata": {
        "id": "Fl0cGi3bZKqU"
      }
    },
    {
      "cell_type": "code",
      "source": [
        "promedio_envio_por_tienda = []\n",
        "\n",
        "for nombre, tienda in zip(nombres, tiendas):\n",
        "  promedio_envio = round(tienda['Costo de envío'].mean(), 2)\n",
        "  promedio_envio_por_tienda.append([nombre, promedio_envio])\n",
        "\n",
        "print(\"Envío promedio por tienda:\")\n",
        "for tienda, promedio in promedio_envio_por_tienda:\n",
        "  print(f\"{tienda}: {promedio}\")"
      ],
      "metadata": {
        "id": "S2JeaCykZNy9",
        "colab": {
          "base_uri": "https://localhost:8080/"
        },
        "outputId": "bd6b7da9-59e7-4f06-e348-a40ea7c203bb"
      },
      "execution_count": null,
      "outputs": [
        {
          "output_type": "stream",
          "name": "stdout",
          "text": [
            "Envío promedio por tienda:\n",
            "Tienda 1: 26018.61\n",
            "Tienda 2: 25216.24\n",
            "Tienda 3: 24805.68\n",
            "Tienda 4: 23459.46\n"
          ]
        }
      ]
    },
    {
      "cell_type": "markdown",
      "source": [
        "#6.Generando gráficos\n",
        "\n"
      ],
      "metadata": {
        "id": "ZKqE2TG-w-PN"
      }
    },
    {
      "cell_type": "markdown",
      "source": [
        "##*Ingreso total por cada tienda*\n",
        "\n"
      ],
      "metadata": {
        "id": "u7Eam016xG76"
      }
    },
    {
      "cell_type": "code",
      "source": [
        "# Datos\n",
        "ingresos = [ingreso_t1, ingreso_t2, ingreso_t3, ingreso_t4]\n",
        "tiendas = ['Tienda 1', 'Tienda 2', 'Tienda 3', 'Tienda 4']\n",
        "\n",
        "# Configuración del gráfico\n",
        "plt.figure(figsize=(8, 5))\n",
        "barras = plt.bar(tiendas, ingresos, color=['#4CAF50', '#2196F3', '#FFC107', '#F44336'])\n",
        "plt.title('Ingresos Totales por Tienda', fontsize=14, fontweight='bold')\n",
        "plt.ylabel('Ingresos ($)', fontsize=12)\n",
        "plt.xlabel('Tiendas', fontsize=12)\n",
        "plt.grid(axis='y', linestyle='--', alpha=0.6)\n",
        "\n",
        "# Etiquetas encima de cada barra\n",
        "for barra in barras:\n",
        "    plt.text(barra.get_x() + barra.get_width()/2, barra.get_height() + 50,\n",
        "             f\"${barra.get_height():,.0f}\", ha='center', fontsize=10, fontweight='bold')\n",
        "\n",
        "# Mostrar en gráfico\n",
        "plt.tight_layout()\n",
        "plt.show()"
      ],
      "metadata": {
        "colab": {
          "base_uri": "https://localhost:8080/",
          "height": 507
        },
        "id": "yWE18gY9w9-9",
        "outputId": "daa42bba-7a6e-4b71-d25b-32fe17ac5dbe"
      },
      "execution_count": null,
      "outputs": [
        {
          "output_type": "display_data",
          "data": {
            "text/plain": [
              "<Figure size 800x500 with 1 Axes>"
            ],
            "image/png": "[encoded data removed]"
          },
          "metadata": {}
        }
      ]
    },
    {
      "cell_type": "markdown",
      "source": [
        "##*Calificación por tienda*"
      ],
      "metadata": {
        "id": "C9PDui7A2_2-"
      }
    },
    {
      "cell_type": "code",
      "source": [
        "# Separar nombres y promedios\n",
        "tiendas_nombres = [x[0] for x in calificacion_por_tienda]\n",
        "promedios = [x[1] for x in calificacion_por_tienda]\n",
        "\n",
        "# Crear gráfico de barras\n",
        "plt.figure(figsize=(8,5))\n",
        "barras = plt.bar(tiendas_nombres, promedios, color=['#FF9800', '#3F51B5', '#4CAF50', '#F44336'])\n",
        "plt.title('Calificación Promedio por Tienda', fontsize=14, fontweight='bold')\n",
        "plt.ylabel('Promedio de Calificación', fontsize=12)\n",
        "plt.xlabel('Tiendas', fontsize=12)\n",
        "plt.ylim(0,5)  # Asumiendo que la calificación es de 1 a 5\n",
        "plt.grid(axis='y', linestyle='--', alpha=0.6)\n",
        "\n",
        "# Etiquetas encima de cada barra\n",
        "for barra in barras:\n",
        "    plt.text(barra.get_x() + barra.get_width()/2, barra.get_height() + 0.05,\n",
        "             f\"{barra.get_height():.2f}\", ha='center', fontsize=10, fontweight='bold')\n",
        "\n",
        "# Mostrar gráfico en el notebook\n",
        "plt.tight_layout()\n",
        "plt.show()"
      ],
      "metadata": {
        "id": "sXGJmKhz3Agp",
        "outputId": "84f2a525-e4fe-4b2d-82f5-a471448c52f2",
        "colab": {
          "base_uri": "https://localhost:8080/",
          "height": 507
        }
      },
      "execution_count": null,
      "outputs": [
        {
          "output_type": "display_data",
          "data": {
            "text/plain": [
              "<Figure size 800x500 with 1 Axes>"
            ],
            "image/png": "[encoded data removed]"
          },
          "metadata": {}
        }
      ]
    },
    {
      "cell_type": "markdown",
      "source": [
        "##*Costo promedio de envío*"
      ],
      "metadata": {
        "id": "ep66otC83hYE"
      }
    },
    {
      "cell_type": "code",
      "source": [
        "# Separar nombres y promedios\n",
        "tiendas_nombres = [x[0] for x in promedio_envio_por_tienda]\n",
        "promedios_envio = [x[1] for x in promedio_envio_por_tienda]\n",
        "\n",
        "# Crear gráfico de barras\n",
        "plt.figure(figsize=(8,5))\n",
        "barras = plt.bar(tiendas_nombres, promedios_envio, color=['#009688', '#3F51B5', '#FF9800', '#F44336'])\n",
        "plt.title('Costo Promedio de Envío por Tienda', fontsize=14, fontweight='bold')\n",
        "plt.ylabel('Costo Promedio ($)', fontsize=12)\n",
        "plt.xlabel('Tiendas', fontsize=12)\n",
        "plt.grid(axis='y', linestyle='--', alpha=0.6)\n",
        "\n",
        "# Etiquetas encima de cada barra\n",
        "for barra in barras:\n",
        "    plt.text(barra.get_x() + barra.get_width()/2, barra.get_height() + 0.05,\n",
        "             f\"${barra.get_height():.2f}\", ha='center', fontsize=10, fontweight='bold')\n",
        "\n",
        "# Mostrar gráfico en el notebook\n",
        "plt.tight_layout()\n",
        "plt.show()"
      ],
      "metadata": {
        "id": "MmU_xrjp3hkj",
        "outputId": "ace09af3-cb85-4683-891f-e05e7f3fac40",
        "colab": {
          "base_uri": "https://localhost:8080/",
          "height": 507
        }
      },
      "execution_count": null,
      "outputs": [
        {
          "output_type": "display_data",
          "data": {
            "text/plain": [
              "<Figure size 800x500 with 1 Axes>"
            ],
            "image/png": "[encoded data removed]"
          },
          "metadata": {}
        }
      ]
    },
    {
      "cell_type": "markdown",
      "source": [
        "## Informe de Análisis — Alura Store"
      ],
      "metadata": {
        "id": "GRjv2Dmc5GFu"
      }
    },
    {
      "cell_type": "markdown",
      "source": [
        "**Introducción**\n",
        "\n",
        "El objetivo de este análisis es ayudar al Sr. Juan a decidir cuál de sus cuatro tiendas de Alura Store debería vender para financiar un nuevo emprendimiento. Para ello, se evaluaron los ingresos totales, la calificación promedio de los clientes, el costo de envío promedio y la distribución de ventas por categorías y productos. Los hallazgos se presentan a continuación mediante gráficos y análisis cuantitativos.\n"
      ],
      "metadata": {
        "id": "V7EX7NjL5FTY"
      }
    },
    {
      "cell_type": "markdown",
      "source": [
        "**Desarrollo del análisis**\n",
        "\n",
        "1. Ingresos totales por tienda\n",
        "\n",
        "  Los ingresos acumulados de cada tienda fueron los siguientes:\n",
        "\n",
        "    *  Tienda 1: $1.150.880.400\n",
        "\n",
        "    *  Tienda 2: $1.116.343.50\n",
        "\n",
        "    *   Tienda 3: $1.098.019.600\n",
        "\n",
        "    *  Tienda 4: $1.038.375.700\n",
        "\n",
        "  Insight: La Tienda 4 es la que genera menor ingreso, mientras que la Tienda 1 lidera en ventas totales.\n",
        "\n",
        "2. Calificación promedio de clientes\n",
        "\n",
        "  El promedio de calificación por tienda es:\n",
        "\n",
        "    *  Tienda 1: 3,98\n",
        "\n",
        "    *  Tienda 2: 4,04\n",
        "\n",
        "    *  Tienda 3: 4,05\n",
        "\n",
        "    *  Tienda 4: 4,00\n",
        "\n",
        "  Insight: Todas las tiendas mantienen calificaciones relativamente similares, con Tienda 3 ligeramente mejor valorada. La Tienda 4 tiene una calificación intermedia pero no destacada.\n",
        "\n",
        "3. Costo promedio de envío\n",
        "\n",
        "  El costo promedio de envío por tienda es:\n",
        "\n",
        "    *  Tienda 1: $26.018,61\n",
        "\n",
        "    *  Tienda 2: $25.216,24\n",
        "\n",
        "    *  Tienda 3: $24.805,68\n",
        "\n",
        "    *  Tienda 4: $23.459,46\n",
        "\n",
        "  Insight: La Tienda 4 presenta el costo de envío más bajo, lo que podría favorecer la competitividad, pero no compensa su menor ingreso.\n",
        "\n",
        "4. Categorías y productos más/menos vendidos\n",
        "\n",
        "    *  Producto más vendido: Cama box\n",
        "\n",
        "    *  Producto menos vendido: Guitarra eléctrica"
      ],
      "metadata": {
        "id": "Wa4n85MN5nii"
      }
    },
    {
      "cell_type": "markdown",
      "source": [
        "**Conclusión y recomendación**\n",
        "\n",
        "Tras evaluar ingresos, calificaciones y costos de envío, se observa que:\n",
        "\n",
        "La Tienda 4 tiene los ingresos más bajos, lo que indica menor eficiencia en ventas.\n",
        "\n",
        "Sus calificaciones y costos de envío no compensan la diferencia en ingresos frente a las otras tiendas.\n",
        "\n",
        "Otras tiendas, aunque tienen costos de envío más altos, mantienen mayores ingresos y mejores diversificaciones de productos.\n",
        "\n",
        "Recomendación: Se sugiere que el Sr. Juan venda la Tienda 4, ya que representa la menor rentabilidad y eficiencia en la cadena, mientras que conservar las demás tiendas asegura mantener los ingresos y la satisfacción general de los clientes."
      ],
      "metadata": {
        "id": "zzFUXWVG5K9Y"
      }
    }
  ]
}